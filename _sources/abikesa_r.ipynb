{
 "cells": [
  {
   "cell_type": "markdown",
   "metadata": {},
   "source": [
    "#  "
   ]
  },
  {
   "cell_type": "markdown",
   "metadata": {},
   "source": [
    "# [R](https://leanpub.com/biostatmethods)"
   ]
  },
  {
   "cell_type": "code",
   "execution_count": 2,
   "metadata": {
    "tags": [
     "hide-input",
     "hide-output"
    ],
    "vscode": {
     "languageId": "r"
    }
   },
   "outputs": [
    {
     "name": "stderr",
     "output_type": "stream",
     "text": [
      "\u001b[1m\u001b[22m`geom_path()`: Each group consists of only one observation.\n",
      "\u001b[36mi\u001b[39m Do you need to adjust the \u001b[32mgroup\u001b[39m aesthetic?\n",
      "\u001b[1m\u001b[22m`geom_path()`: Each group consists of only one observation.\n",
      "\u001b[36mi\u001b[39m Do you need to adjust the \u001b[32mgroup\u001b[39m aesthetic?\n"
     ]
    }
   ],
   "source": [
    "# Loading libraries\n",
    "library(ggplot2)\n",
    "library(gganimate)\n",
    "\n",
    "# Defining parameters for a particle in a magnetic field\n",
    "t <- seq(0, 10, by = 0.1)\n",
    "x <- sin(t)\n",
    "y <- cos(t)\n",
    "\n",
    "# Creating a data frame to hold the values\n",
    "particle_data <- data.frame(\n",
    "  time = t,\n",
    "  x = x,\n",
    "  y = y\n",
    ")\n",
    "\n",
    "# Creating the plot using ggplot2 and gganimate\n",
    "plot <- ggplot(particle_data, aes(x = x, y = y)) +\n",
    "  geom_path(aes(group = 1), color = 'gray') + # Making sure all points are in the same group\n",
    "  geom_point(size = 4) +\n",
    "  labs(title = \"Particle in a Magnetic Field\",\n",
    "       x = \"X Axis\",\n",
    "       y = \"Y Axis\") +\n",
    "  theme_minimal() +\n",
    "  coord_fixed(ratio = 1) +\n",
    "  transition_reveal(time)\n",
    "\n",
    "# Create and save the animation\n",
    "animate(plot, renderer = gifski_renderer(\"particle_animation.gif\"))"
   ]
  },
  {
   "cell_type": "markdown",
   "metadata": {},
   "source": [
    "\n",
    "![](particle_animation.gif)"
   ]
  },
  {
   "cell_type": "code",
   "execution_count": 3,
   "metadata": {
    "tags": [
     "hide-input"
    ],
    "vscode": {
     "languageId": "r"
    }
   },
   "outputs": [],
   "source": [
    "static_plot <- ggplot(particle_data, aes(x = x, y = y)) +\n",
    "  geom_path(aes(group = 1), color = 'gray') +\n",
    "  geom_point(size = 4) +\n",
    "  labs(title = \"Particle in a Magnetic Field\", x = \"X Axis\", y = \"Y Axis\") +\n",
    "  theme_minimal() +\n",
    "  coord_fixed(ratio = 1)\n",
    "# print(static_plot)"
   ]
  },
  {
   "cell_type": "code",
   "execution_count": 1,
   "metadata": {
    "vscode": {
     "languageId": "r"
    }
   },
   "outputs": [
    {
     "data": {
      "text/html": [
       "6"
      ],
      "text/latex": [
       "6"
      ],
      "text/markdown": [
       "6"
      ],
      "text/plain": [
       "[1] 6"
      ]
     },
     "metadata": {},
     "output_type": "display_data"
    }
   ],
   "source": [
    "1+5"
   ]
  },
  {
   "cell_type": "code",
   "execution_count": 2,
   "metadata": {
    "vscode": {
     "languageId": "r"
    }
   },
   "outputs": [
    {
     "data": {
      "text/html": [
       "'hey'"
      ],
      "text/latex": [
       "'hey'"
      ],
      "text/markdown": [
       "'hey'"
      ],
      "text/plain": [
       "[1] \"hey\""
      ]
     },
     "metadata": {},
     "output_type": "display_data"
    }
   ],
   "source": [
    "\"hey\""
   ]
  },
  {
   "cell_type": "code",
   "execution_count": 3,
   "metadata": {
    "vscode": {
     "languageId": "r"
    }
   },
   "outputs": [
    {
     "data": {
      "text/html": [
       "5"
      ],
      "text/latex": [
       "5"
      ],
      "text/markdown": [
       "5"
      ],
      "text/plain": [
       "[1] 5"
      ]
     },
     "metadata": {},
     "output_type": "display_data"
    }
   ],
   "source": [
    "x = 5\n",
    "x"
   ]
  }
 ],
 "metadata": {
  "kernelspec": {
   "display_name": "R",
   "language": "R",
   "name": "ir"
  },
  "language_info": {
   "codemirror_mode": "r",
   "file_extension": ".r",
   "mimetype": "text/x-r-source",
   "name": "R",
   "pygments_lexer": "r",
   "version": "4.3.1"
  },
  "orig_nbformat": 4
 },
 "nbformat": 4,
 "nbformat_minor": 2
}
