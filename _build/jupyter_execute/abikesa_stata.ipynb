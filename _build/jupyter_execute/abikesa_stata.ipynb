{
 "cells": [
  {
   "cell_type": "markdown",
   "metadata": {},
   "source": [
    "#  "
   ]
  },
  {
   "cell_type": "markdown",
   "metadata": {},
   "source": [
    "# Stata\n",
    "\n",
    "### Stata I (Basic)\n",
    "- Commands, syntax, and file management restricted to Stata dropdown menu, command window, and `.do` files on local computer\n",
    "### Stata II (Intermediate)\n",
    "- File management including `.do`, `.ado`, and datafiles are managed remotely on GitHub to enhance collaboration, sharing, and openness\n",
    "### Stata III (Advanced)\n",
    "- Batch mode is used on a `Visual Studio Code` terminal with `.sh` scripts, with .do files and other outputs embedded in `.ipynb` env. Alternatively, `.ipynb` codeblocks are used with a Stata kernel, in the same way as is done while running R with an R kernel. This completely mimics the Python environment and Stata and R applications needn't ever be opened. RMarkdown has absolutely no advanced over a Jupyter book.\n",
    "\n",
    "<Details>\n",
    "   <Summary>Victory! But After 100 Iterations!!</Summary>\n",
    "\n",
    "##### Just scored a victory that carries profound implications for \"Stata III (Advanced)\"  \n",
    "It looks like the Stata kernel (`stata`) is listed as an available kernel, which is a good sign. Since you're still not seeing it in the kernel selector in VS Code, it might be worth checking the VS Code settings to ensure it's looking in the correct directory for kernels.\n",
    "\n",
    "In VS Code, you can check the Jupyter kernel settings by going to the command palette (Ctrl+Shift+P) and searching for \"Preferences: Open Settings (UI)\". Then, navigate to the \"Python > Jupyter\" section and look for the \"Jupyter: Kernel Spec Path\" setting. Make sure it's pointing to the correct directory where the Stata kernel is installed (`/Users/d/Library/Jupyter/kernels/` in your case).\n",
    "\n",
    "If the path is correct and you're still not seeing the Stata kernel, you might try restarting VS Code again or even restarting your computer to see if that resolves the issue. Sometimes, these changes require a complete restart to take effect.\n",
    "\n",
    "</Details>"
   ]
  },
  {
   "cell_type": "markdown",
   "metadata": {
    "tags": [
     "hide-input"
    ]
   },
   "source": [
    "```bash\n",
    "# Workflow for Stata III \n",
    "export PATH=$PATH:/applications/stata/statamp.app/contents/macos/\n",
    "stata-mp -b work/abikesa_batch.do\n",
    "```\n",
    "\n",
    "#\n",
    "\n",
    "Ah, I see what you're trying to do. Running Stata in batch mode is a handy way to automate tasks, especially when dealing with large datasets or repetitive tasks. \n",
    "\n",
    "To run a remote script in batch mode with Stata, you can use the `curl` command to download the script from GitHub and then pass it to Stata for execution. Here's how you can do it:\n",
    "\n",
    "```bash\n",
    "# Download the remote script using curl\n",
    "curl -O https://github.com/abikesa/do/raw/main/hello.do\n",
    "\n",
    "# Run Stata in batch mode with the downloaded script\n",
    "export PATH=$PATH:/applications/stata/statamp.app/contents/macos/\n",
    "stata-mp -b hello.do\n",
    "```\n",
    "\n",
    "This script will download the `hello.do` script from the GitHub repository and then execute it in batch mode using Stata. Make sure you have `curl` installed on your system, or you can use any other tool to download files from the web.\n",
    "\n",
    "Running scripts remotely can be a powerful tool, but always ensure you trust the source of the script to avoid any security risks."
   ]
  },
  {
   "cell_type": "code",
   "execution_count": 1,
   "metadata": {},
   "outputs": [
    {
     "name": "stdout",
     "output_type": "stream",
     "text": [
      "Hello, Stata!\n"
     ]
    }
   ],
   "source": [
    "display \"Hello, Stata!\"\n"
   ]
  },
  {
   "cell_type": "markdown",
   "metadata": {},
   "source": [
    "### Nonparametric"
   ]
  },
  {
   "cell_type": "code",
   "execution_count": 31,
   "metadata": {
    "tags": [
     "hide-input"
    ]
   },
   "outputs": [
    {
     "name": "stdout",
     "output_type": "stream",
     "text": [
      "\n",
      "\n",
      "        Failure _d: rSMGJcEdF_d==2\n",
      "  Analysis time _t: (rSMGJcEdF_tT-origin)/365.25\n",
      "            Origin: time rSMGJcEdF_t0\n",
      "\n",
      "Iteration 0:  Log likelihood = -54306.231\n",
      "Iteration 1:  Log likelihood = -48118.832\n",
      "Iteration 2:  Log likelihood = -46988.196\n",
      "Iteration 3:  Log likelihood =  -46919.91\n",
      "Iteration 4:  Log likelihood = -46919.866\n",
      "Refining estimates:\n",
      "Iteration 0:  Log likelihood = -46919.866\n",
      "\n",
      "Cox regression with Breslow method for ties\n",
      "\n",
      "No. of subjects =     113,599                         Number of obs =  113,599\n",
      "No. of failures =       4,935\n",
      "Time at risk    = 998,774.864\n",
      "                                                      LR chi2(4)    = 14772.73\n",
      "Log likelihood = -46919.866                           Prob > chi2   =   0.0000\n",
      "\n",
      "------------------------------------------------------------------------------\n",
      "          _t | Haz. ratio   Std. err.      z    P>|z|     [95% conf. interval]\n",
      "-------------+----------------------------------------------------------------\n",
      "         age |    1.11333   .0010055   118.87   0.000     1.111361    1.115302\n",
      "      female |   .6109124   .0174449   -17.26   0.000     .5776603    .6460786\n",
      "             |\n",
      "        race |\n",
      "          2  |   1.667216   .0598199    14.25   0.000     1.553999    1.788682\n",
      "          3  |   1.121514   .0469549     2.74   0.006     1.033159    1.217425\n",
      "------------------------------------------------------------------------------\n",
      "\n",
      "     +---------------------------------------------+\n",
      "     |        s0          _t   age   female   race |\n",
      "     |---------------------------------------------|\n",
      "  1. | .99976052   11.277207    44        1      1 |\n",
      "  2. | .99989723   6.8281999    47        1      1 |\n",
      "  3. | .99991253   6.1711157    38        1      3 |\n",
      "  4. | .99992043   5.6919918    38        0      3 |\n",
      "  5. | .99973805   11.816564    18        1      1 |\n",
      "     |---------------------------------------------|\n",
      "  6. | .99999241   .90622861    39        0      1 |\n",
      "  7. | .99979225   10.472279    47        1      2 |\n",
      "  8. | .99981142   9.8754278    52        0      1 |\n",
      "  9. | .99980562   10.064339    40        1      1 |\n",
      " 10. | .99999932   .08761123    58        0      1 |\n",
      "     +---------------------------------------------+\n"
     ]
    }
   ],
   "source": [
    "\n",
    "qui {\n",
    "capture log close \n",
    "log using jamascript.log, replace \n",
    "global repo https://github.com/muzaale/forum/raw/main/ \n",
    "// cls; some commands don't work outside Stata!!\n",
    "/*noi di \"What is your work directory?\" _request(workdir)\n",
    "if \"$workdir\" == \"\" {\n",
    "\tdi as err \"Please provide your work directory\"\n",
    "\texit\n",
    "}\n",
    "else {\n",
    "\tcd $workdir\n",
    "\tnoi di \"jamascript is running ...\"\n",
    "}\n",
    "*/\n",
    "use ${repo}esrdRisk_t02tT, clear\n",
    "tab donor rSMGJcEdF_d\n",
    "g entry = rSMGJcEdF_t0\n",
    "//linkage for donors after 2011 is untrustworthy\n",
    "replace rSMGJcEdF_d=0 if rSMGJcEdF_tT > d(31dec2011)\n",
    "replace rSMGJcEdF_tT = d(31dec2011) if rSMGJcEdF_tT > d(31dec2011)\n",
    "//linkage before 1994 is untrustworthy\n",
    "#delimit ;\n",
    "replace entry = d(01jan1994) if  \n",
    "    entry < d(01jan1994) &  \n",
    "\trSMGJcEdF_tT > d(01jan1994); \n",
    "stset rSMGJcEdF_tT,  \n",
    "    origin(rSMGJcEdF_t0)  \n",
    "\tentry(`entry')  \n",
    "\tfail(rSMGJcEdF_d==2)  \n",
    "\tscale(365.25); \n",
    "#delimit cr \n",
    "sts list, fail by(donor) at(5 12 15) saving(km, replace ) \n",
    "preserve  \n",
    "    use km, clear  \n",
    "\treplace failure=failure*100\n",
    "    sum failure if donor==1 & time==5\n",
    "\tlocal don5y: di %3.2f r(mean)\n",
    "    sum failure if donor==1 & time==12\n",
    "\tlocal don12y: di %3.2f r(mean)\n",
    "\tsum failure if donor==1 & time==15\n",
    "\tlocal don15y: di %3.2f r(mean)\n",
    "\t//\n",
    "    sum failure if donor==2 & time==5\n",
    "\tlocal hnd5y: di %3.2f r(mean)\n",
    "    sum failure if donor==2 & time==12\n",
    "\tlocal hnd12y: di %3.2f r(mean)\n",
    "\tsum failure if donor==2 & time==15\n",
    "\tlocal hnd15y: di %3.2f r(mean)\n",
    "\t//\n",
    "    sum failure if donor==3 & time==5\n",
    "\tlocal gpop5y: di %3.2f r(mean)\n",
    "    sum failure if donor==3 & time==12\n",
    "\tlocal gpop12y: di %3.2f r(mean)\n",
    "\tsum failure if donor==3 & time==15\n",
    "\tlocal gpop15y: di %3.2f r(mean)\n",
    "restore \n",
    "#delimit ;\n",
    "sts graph, \n",
    "    by(donor)  \n",
    "    fail \n",
    "\tper(100)  \n",
    "\txlab(0(3)15) \n",
    "\tylab(0(10)40,  \n",
    "\t    format(%2.0f))  \n",
    "\ttmax(15)  \n",
    "\trisktable(, color(stc1) group (1)  \n",
    "\t    order(3 \" \" 2 \" \" 1 \" \")  \n",
    "\t\tti(\"#\")  \n",
    "\t) \n",
    "\trisktable(, color(stc2) group(2))  \n",
    "\trisktable(, color(stc3) group(3))  \n",
    "\tlegend(on \n",
    "\tring(0)  \n",
    "\t    pos(11)  \n",
    "\t   order(3 2 1)  \n",
    "\t   lab(3 \"General population\")  \n",
    "\t   lab(2 \"Healthy nondonor\")  \n",
    "\t   lab(1 \"Living donor\")  \n",
    "\t)  \n",
    "\tti(\"Morte\")  \n",
    "\ttext(`don5y' 5 \"`don5y'%\", col(stc1))  \n",
    "\ttext(`don12y' 12 \"`don12y'%\", col(stc1))  \n",
    "\ttext(`don15y' 15 \"`don15y'%\", col(stc1))  \n",
    "\ttext(`hnd5y' 5 \"`hnd5y'%\", col(stc2))  \n",
    "\ttext(`hnd12y' 12 \"`hnd12y'%\", col(stc2)) \n",
    "\ttext(`hnd15y' 15 \"`hnd15y'%\", col(stc2))  \n",
    "\ttext(`gpop5y' 5 \"`gpop5y'%\", col(stc3))  \n",
    "\ttext(`gpop12y' 12 \"`gpop12y'%\", col(stc3))  \n",
    "\ttext(`gpop15y' 15 \"`gpop15y'%\", col(stc3));\n",
    "#delimit cr\n",
    "\n",
    "graph export ~/documents/github/work/jamascript.png, replace \n",
    "keep _* entry age_t0 female race donor\n",
    "rename age_t0 age\n",
    "//dataset\n",
    "save ~/documents/github/work/jamascript.dta, replace \n",
    "noi stcox age female i.race, basesurv(s0)\n",
    "noi list s0 _t age female race in 1/10\n",
    "matrix define b=e(b)\n",
    "keep s0 _t \n",
    "//s0\n",
    "sort _t s0\n",
    "list in 1/10\n",
    "save ~/documents/github/work/s0.dta, replace \n",
    "export delimited using ~/documents/github/work/s0.csv, replace \n",
    "matrix beta = e(b)\n",
    "svmat beta \n",
    "keep beta*\n",
    "drop if missing(beta1)\n",
    "//betas\n",
    "list in 1/10\n",
    "save b.dta, replace \n",
    "export delimited using ~/documents/github/work/b.csv, replace \n",
    "log close \n",
    "//noi ls\n",
    "} \n",
    " "
   ]
  },
  {
   "cell_type": "markdown",
   "metadata": {},
   "source": [
    "![](jamascript.png)"
   ]
  },
  {
   "cell_type": "markdown",
   "metadata": {},
   "source": [
    "[Segev, JAMA, 2010](jamascript-m.pdf):\n",
    "- Page 961\n",
    "- 5-year followup: $0.4%$\n",
    "- 12-year follow-up: $1.5%$\n",
    "\n",
    "### Semiparametric\n",
    "$Y = \\beta_0 + \\beta_1X_1 + \\beta_2X_2 + \\cdots + \\beta_NX_N + \\epsilon_i$   \n",
    "      \n",
    "$\\begin{bmatrix}\n",
    "\\beta_0 \\\\\n",
    "\\beta_1 \\\\\n",
    "\\beta_2 \\\\\n",
    "\\vdots \\\\\n",
    "\\beta_N\n",
    "\\end{bmatrix}$\n",
    "\n",
    "Where $X_1$ is Age, $X_2$ is Female, and $+ \\cdots + \\beta_NX_N$ are Race categories\n",
    "\n",
    "The $\\beta_i$ coeffients can be found [here](b.csv)    \n",
    "\n",
    "And the nonparametric base-case survival function can be found [here](s0.csv)"
   ]
  },
  {
   "cell_type": "markdown",
   "metadata": {},
   "source": [
    "[](https://github.com/abikesa/flow/raw/main/jamascript-m.pdf)"
   ]
  }
 ],
 "metadata": {
  "kernelspec": {
   "display_name": "Stata",
   "language": "stata",
   "name": "stata"
  },
  "language_info": {
   "codemirror_mode": "stata",
   "file_extension": ".do",
   "mimetype": "text/x-stata",
   "name": "stata",
   "version": "15.1"
  }
 },
 "nbformat": 4,
 "nbformat_minor": 2
}