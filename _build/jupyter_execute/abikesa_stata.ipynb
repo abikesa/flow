{
 "cells": [
  {
   "cell_type": "markdown",
   "metadata": {},
   "source": [
    "#  "
   ]
  },
  {
   "cell_type": "markdown",
   "metadata": {},
   "source": [
    "# Stata\n",
    "\n",
    "### Stata I (Basic)\n",
    "- Commands, syntax, and file management restricted to Stata dropdown menu, command window, and `.do` files on local computer\n",
    "### Stata II (Intermediate)\n",
    "- File management including `.do`, `.ado`, and datafiles are managed remotely on GitHub to enhance collaboration, sharing, and openness\n",
    "### Stata III (Advanced)\n",
    "- Batch mode is used on a `Visual Studio Code` terminal with `.sh` scripts, with .do files and other outputs embedded in `.ipynb` env"
   ]
  },
  {
   "cell_type": "markdown",
   "metadata": {},
   "source": [
    "```bash\n",
    "# Workflow for Stata III \n",
    "export PATH=$PATH:/applications/stata/statamp.app/contents/macos/\n",
    "stata-mp -b work/abikesa_batch.do\n",
    "```"
   ]
  }
 ],
 "metadata": {
  "kernelspec": {
   "display_name": "myenv",
   "language": "python",
   "name": "python3"
  },
  "language_info": {
   "codemirror_mode": "r",
   "file_extension": ".r",
   "mimetype": "text/x-r-source",
   "name": "python",
   "pygments_lexer": "r",
   "version": "3.11.4"
  }
 },
 "nbformat": 4,
 "nbformat_minor": 2
}