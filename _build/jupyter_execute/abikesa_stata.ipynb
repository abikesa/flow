{
 "cells": [
  {
   "cell_type": "markdown",
   "metadata": {},
   "source": [
    "#  "
   ]
  },
  {
   "cell_type": "markdown",
   "metadata": {},
   "source": [
    "# Stata\n",
    "\n",
    "### Stata I (Basic)\n",
    "- Commands, syntax, and file management restricted to Stata dropdown menu, command window, and `.do` files on local computer\n",
    "### Stata II (Intermediate)\n",
    "- File management including `.do`, `.ado`, and datafiles are managed remotely on GitHub to enhance collaboration, sharing, and openness\n",
    "### Stata III (Advanced)\n",
    "- Batch mode is used on a `Visual Studio Code` terminal with `.sh` scripts, with .do files and other outputs embedded in `.ipynb` env\n",
    "\n",
    "<Details>\n",
    "   <Summary>Victory! But After 100 Iterations!!</Summary>\n",
    "\n",
    "It looks like the Stata kernel (`stata`) is listed as an available kernel, which is a good sign. Since you're still not seeing it in the kernel selector in VS Code, it might be worth checking the VS Code settings to ensure it's looking in the correct directory for kernels.\n",
    "\n",
    "In VS Code, you can check the Jupyter kernel settings by going to the command palette (Ctrl+Shift+P) and searching for \"Preferences: Open Settings (UI)\". Then, navigate to the \"Python > Jupyter\" section and look for the \"Jupyter: Kernel Spec Path\" setting. Make sure it's pointing to the correct directory where the Stata kernel is installed (`/Users/d/Library/Jupyter/kernels/` in your case).\n",
    "\n",
    "If the path is correct and you're still not seeing the Stata kernel, you might try restarting VS Code again or even restarting your computer to see if that resolves the issue. Sometimes, these changes require a complete restart to take effect.\n",
    "\n",
    "</Details>"
   ]
  },
  {
   "cell_type": "markdown",
   "metadata": {
    "tags": [
     "hide-input"
    ]
   },
   "source": [
    "```bash\n",
    "# Workflow for Stata III \n",
    "export PATH=$PATH:/applications/stata/statamp.app/contents/macos/\n",
    "stata-mp -b work/abikesa_batch.do\n",
    "```\n",
    "\n",
    "#\n",
    "\n",
    "Ah, I see what you're trying to do. Running Stata in batch mode is a handy way to automate tasks, especially when dealing with large datasets or repetitive tasks. \n",
    "\n",
    "To run a remote script in batch mode with Stata, you can use the `curl` command to download the script from GitHub and then pass it to Stata for execution. Here's how you can do it:\n",
    "\n",
    "```bash\n",
    "# Download the remote script using curl\n",
    "curl -O https://github.com/abikesa/do/raw/main/hello.do\n",
    "\n",
    "# Run Stata in batch mode with the downloaded script\n",
    "export PATH=$PATH:/applications/stata/statamp.app/contents/macos/\n",
    "stata-mp -b hello.do\n",
    "```\n",
    "\n",
    "This script will download the `hello.do` script from the GitHub repository and then execute it in batch mode using Stata. Make sure you have `curl` installed on your system, or you can use any other tool to download files from the web.\n",
    "\n",
    "Running scripts remotely can be a powerful tool, but always ensure you trust the source of the script to avoid any security risks."
   ]
  },
  {
   "cell_type": "markdown",
   "metadata": {},
   "source": [
    "```stata\n",
    "qui {\n",
    "global repo https://github.com/muzaale/forum/raw/main/ \n",
    "cls\n",
    "noi di \"What is your work directory?\" _request(workdir)\n",
    "if \"$workdir\" == \"\" {\n",
    "\tdi as err \"Please provide your work directory\"\n",
    "\texit\n",
    "}\n",
    "else {\n",
    "\tcd $workdir\n",
    "\tnoi di \"jamascript is running ...\"\n",
    "}\n",
    "use ${repo}esrdRisk_t02tT, clear\n",
    "tab donor rSMGJcEdF_d\n",
    "g entry = rSMGJcEdF_t0\n",
    "//linkage for donors after 2011 is untrustworthy\n",
    "replace rSMGJcEdF_d=0 if rSMGJcEdF_tT > d(31dec2011)\n",
    "replace rSMGJcEdF_tT = d(31dec2011) if rSMGJcEdF_tT > d(31dec2011)\n",
    "//linkage before 1994 is untrustworthy\n",
    "replace entry = d(01jan1994) if ///\n",
    "    entry < d(01jan1994) & ///\n",
    "\trSMGJcEdF_tT > d(01jan1994)\n",
    "stset rSMGJcEdF_tT, ///\n",
    "    origin(rSMGJcEdF_t0) ///\n",
    "\tentry(`entry') ///\n",
    "\tfail(rSMGJcEdF_d==2) ///\n",
    "\tscale(365.25) \n",
    "sts list, fail by(donor) at(5 12 15) saving(km, replace )\n",
    "preserve \n",
    "    use km, clear \n",
    "\treplace failure=failure*100\n",
    "    sum failure if donor==1 & time==5\n",
    "\tlocal don5y: di %3.2f r(mean)\n",
    "    sum failure if donor==1 & time==12\n",
    "\tlocal don12y: di %3.2f r(mean)\n",
    "\tsum failure if donor==1 & time==15\n",
    "\tlocal don15y: di %3.2f r(mean)\n",
    "\t//\n",
    "    sum failure if donor==2 & time==5\n",
    "\tlocal hnd5y: di %3.2f r(mean)\n",
    "    sum failure if donor==2 & time==12\n",
    "\tlocal hnd12y: di %3.2f r(mean)\n",
    "\tsum failure if donor==2 & time==15\n",
    "\tlocal hnd15y: di %3.2f r(mean)\n",
    "\t//\n",
    "    sum failure if donor==3 & time==5\n",
    "\tlocal gpop5y: di %3.2f r(mean)\n",
    "    sum failure if donor==3 & time==12\n",
    "\tlocal gpop12y: di %3.2f r(mean)\n",
    "\tsum failure if donor==3 & time==15\n",
    "\tlocal gpop15y: di %3.2f r(mean)\n",
    "restore \n",
    "sts graph, ///\n",
    "    by(donor) ///\n",
    "    fail ///\n",
    "\tper(100) ///\n",
    "\txlab(0(3)15) ///\n",
    "\tylab(0(10)40, ///\n",
    "\t    format(%2.0f)) ///\n",
    "\ttmax(15) ///\n",
    "\trisktable(, color(stc1) group (1) ///\n",
    "\t    order(3 \" \" 2 \" \" 1 \" \") ///\n",
    "\t\tti(\"#\") ///\n",
    "\t) ///\n",
    "\trisktable(, color(stc2) group(2)) ///\n",
    "\trisktable(, color(stc3) group(3)) ///\n",
    "\tlegend(on ///\n",
    "\tring(0) ///\n",
    "\t    pos(11) ///\n",
    "\t   order(3 2 1) ///\n",
    "\t   lab(3 \"General population\") ///\n",
    "\t   lab(2 \"Healthy nondonor\") ///\n",
    "\t   lab(1 \"Living donor\") ///\n",
    "\t) ///\n",
    "\tti(\"Mortality\") ///\n",
    "\ttext(`don5y' 5 \"`don5y'%\", col(stc1)) ///\n",
    "\ttext(`don12y' 12 \"`don12y'%\", col(stc1)) ///\n",
    "\ttext(`don15y' 15 \"`don15y'%\", col(stc1)) ///\n",
    "\ttext(`hnd5y' 5 \"`hnd5y'%\", col(stc2)) ///\n",
    "\ttext(`hnd12y' 12 \"`hnd12y'%\", col(stc2)) ///\n",
    "\ttext(`hnd15y' 15 \"`hnd15y'%\", col(stc2)) ///\n",
    "\ttext(`gpop5y' 5 \"`gpop5y'%\", col(stc3)) ///\n",
    "\ttext(`gpop12y' 12 \"`gpop12y'%\", col(stc3)) ///\n",
    "\ttext(`gpop15y' 15 \"`gpop15y'%\", col(stc3))\n",
    "\n",
    "graph export jamascript.png, replace \n",
    "noi ls\n",
    "} \n",
    "```\n",
    "\n",
    "![](jamascript.png)"
   ]
  },
  {
   "cell_type": "code",
   "execution_count": 1,
   "metadata": {},
   "outputs": [
    {
     "name": "stdout",
     "output_type": "stream",
     "text": [
      "Hello, Stata!\n"
     ]
    }
   ],
   "source": [
    "display \"Hello, Stata!\"\n"
   ]
  },
  {
   "cell_type": "code",
   "execution_count": 2,
   "metadata": {},
   "outputs": [],
   "source": [
    "\n",
    "qui {\n",
    "global repo https://github.com/muzaale/forum/raw/main/ \n",
    "// cls; some commands don't work outside Stata!!\n",
    "noi di \"What is your work directory?\" _request(workdir)\n",
    "if \"$workdir\" == \"\" {\n",
    "\tdi as err \"Please provide your work directory\"\n",
    "\texit\n",
    "}\n",
    "else {\n",
    "\tcd $workdir\n",
    "\tnoi di \"jamascript is running ...\"\n",
    "}\n",
    "use ${repo}esrdRisk_t02tT, clear\n",
    "tab donor rSMGJcEdF_d\n",
    "g entry = rSMGJcEdF_t0\n",
    "//linkage for donors after 2011 is untrustworthy\n",
    "replace rSMGJcEdF_d=0 if rSMGJcEdF_tT > d(31dec2011)\n",
    "replace rSMGJcEdF_tT = d(31dec2011) if rSMGJcEdF_tT > d(31dec2011)\n",
    "//linkage before 1994 is untrustworthy\n",
    "replace entry = d(01jan1994) if ///\n",
    "    entry < d(01jan1994) & ///\n",
    "\trSMGJcEdF_tT > d(01jan1994)\n",
    "stset rSMGJcEdF_tT, ///\n",
    "    origin(rSMGJcEdF_t0) ///\n",
    "\tentry(`entry') ///\n",
    "\tfail(rSMGJcEdF_d==2) ///\n",
    "\tscale(365.25) \n",
    "sts list, fail by(donor) at(5 12 15) saving(km, replace )\n",
    "preserve \n",
    "    use km, clear \n",
    "\treplace failure=failure*100\n",
    "    sum failure if donor==1 & time==5\n",
    "\tlocal don5y: di %3.2f r(mean)\n",
    "    sum failure if donor==1 & time==12\n",
    "\tlocal don12y: di %3.2f r(mean)\n",
    "\tsum failure if donor==1 & time==15\n",
    "\tlocal don15y: di %3.2f r(mean)\n",
    "\t//\n",
    "    sum failure if donor==2 & time==5\n",
    "\tlocal hnd5y: di %3.2f r(mean)\n",
    "    sum failure if donor==2 & time==12\n",
    "\tlocal hnd12y: di %3.2f r(mean)\n",
    "\tsum failure if donor==2 & time==15\n",
    "\tlocal hnd15y: di %3.2f r(mean)\n",
    "\t//\n",
    "    sum failure if donor==3 & time==5\n",
    "\tlocal gpop5y: di %3.2f r(mean)\n",
    "    sum failure if donor==3 & time==12\n",
    "\tlocal gpop12y: di %3.2f r(mean)\n",
    "\tsum failure if donor==3 & time==15\n",
    "\tlocal gpop15y: di %3.2f r(mean)\n",
    "restore \n",
    "sts graph, ///\n",
    "    by(donor) ///\n",
    "    fail ///\n",
    "\tper(100) ///\n",
    "\txlab(0(3)15) ///\n",
    "\tylab(0(10)40, ///\n",
    "\t    format(%2.0f)) ///\n",
    "\ttmax(15) ///\n",
    "\trisktable(, color(stc1) group (1) ///\n",
    "\t    order(3 \" \" 2 \" \" 1 \" \") ///\n",
    "\t\tti(\"#\") ///\n",
    "\t) ///\n",
    "\trisktable(, color(stc2) group(2)) ///\n",
    "\trisktable(, color(stc3) group(3)) ///\n",
    "\tlegend(on ///\n",
    "\tring(0) ///\n",
    "\t    pos(11) ///\n",
    "\t   order(3 2 1) ///\n",
    "\t   lab(3 \"General population\") ///\n",
    "\t   lab(2 \"Healthy nondonor\") ///\n",
    "\t   lab(1 \"Living donor\") ///\n",
    "\t) ///\n",
    "\tti(\"Morte\") ///\n",
    "\ttext(`don5y' 5 \"`don5y'%\", col(stc1)) ///\n",
    "\ttext(`don12y' 12 \"`don12y'%\", col(stc1)) ///\n",
    "\ttext(`don15y' 15 \"`don15y'%\", col(stc1)) ///\n",
    "\ttext(`hnd5y' 5 \"`hnd5y'%\", col(stc2)) ///\n",
    "\ttext(`hnd12y' 12 \"`hnd12y'%\", col(stc2)) ///\n",
    "\ttext(`hnd15y' 15 \"`hnd15y'%\", col(stc2)) ///\n",
    "\ttext(`gpop5y' 5 \"`gpop5y'%\", col(stc3)) ///\n",
    "\ttext(`gpop12y' 12 \"`gpop12y'%\", col(stc3)) ///\n",
    "\ttext(`gpop15y' 15 \"`gpop15y'%\", col(stc3))\n",
    "\n",
    "graph export work/jamascript.png, replace \n",
    "noi ls\n",
    "} \n",
    " "
   ]
  },
  {
   "cell_type": "markdown",
   "metadata": {},
   "source": [
    "### Line continuation is problematic in Terminal & Jupyter"
   ]
  },
  {
   "cell_type": "code",
   "execution_count": 3,
   "metadata": {},
   "outputs": [
    {
     "name": "stdout",
     "output_type": "stream",
     "text": [
      "\n",
      "\n",
      "total 8808\n"
     ]
    },
    {
     "name": "stdout",
     "output_type": "stream",
     "text": [
      "-rw-r--r--@  1 d  staff       25 May  5 16:19 README.md\n"
     ]
    },
    {
     "name": "stdout",
     "output_type": "stream",
     "text": [
      "drwxr-xr-x@  5 d  staff      160 May 12 18:16 _build/\n"
     ]
    },
    {
     "name": "stdout",
     "output_type": "stream",
     "text": [
      "-rw-r--r--@  1 d  staff      137 May  5 16:19 _config.yml\n"
     ]
    },
    {
     "name": "stdout",
     "output_type": "stream",
     "text": [
      "-rw-r--r--@  1 d  staff     2955 May  5 16:19 _toc.yml\n"
     ]
    },
    {
     "name": "stdout",
     "output_type": "stream",
     "text": [
      "-rwxr-xr-x@  1 d  staff       81 May  5 16:19 abikesa_batch.do*\n"
     ]
    },
    {
     "name": "stdout",
     "output_type": "stream",
     "text": [
      "-rw-r--r--@  1 d  staff      551 May  5 16:19 abikesa_clone.sh\n"
     ]
    },
    {
     "name": "stdout",
     "output_type": "stream",
     "text": [
      "-rwxr-xr-x@  1 d  staff      168 May  5 16:19 abikesa_copilot.do*\n"
     ]
    },
    {
     "name": "stdout",
     "output_type": "stream",
     "text": [
      "-rw-r--r--@  1 d  staff       45 May  5 16:19 abikesa_copilot.sh\n"
     ]
    },
    {
     "name": "stdout",
     "output_type": "stream",
     "text": [
      "-rw-r--r--@  1 d  staff      115 May  5 16:19 abikesa_csv.do\n"
     ]
    },
    {
     "name": "stdout",
     "output_type": "stream",
     "text": [
      "-rwxr-xr-x@  1 d  staff      123 May  5 16:19 abikesa_csv.sh*\n"
     ]
    },
    {
     "name": "stdout",
     "output_type": "stream",
     "text": [
      "-rwxr-xr-x@  1 d  staff     1774 May  5 16:19 abikesa_editrepo.sh*\n"
     ]
    },
    {
     "name": "stdout",
     "output_type": "stream",
     "text": [
      "-rwxr-xr-x@  1 d  staff     2046 May  5 16:19 abikesa_folked.sh*\n"
     ]
    },
    {
     "name": "stdout",
     "output_type": "stream",
     "text": [
      "-rwxr-xr-x@  1 d  staff     2569 May  5 16:19 abikesa_jbb.sh*\n"
     ]
    },
    {
     "name": "stdout",
     "output_type": "stream",
     "text": [
      "-rwxr-xr-x@  1 d  staff     3745 May  5 16:19 abikesa_jbc.sh*\n"
     ]
    },
    {
     "name": "stdout",
     "output_type": "stream",
     "text": [
      "-rw-r--r--@  1 d  staff    12248 May  5 16:19 abikesa_jhustatabasic_health.txt\n"
     ]
    },
    {
     "name": "stdout",
     "output_type": "stream",
     "text": [
      "-rw-r--r--@  1 d  staff      924 May  5 16:19 abikesa_key.sh\n"
     ]
    },
    {
     "name": "stdout",
     "output_type": "stream",
     "text": [
      "-rwxr-xr-x@  1 d  staff     2380 May  5 16:19 abikesa_key_g.sh*\n"
     ]
    },
    {
     "name": "stdout",
     "output_type": "stream",
     "text": [
      "-rwxr-xr-x@  1 d  staff     4084 May  5 16:19 abikesa_ngoma.sh*\n"
     ]
    },
    {
     "name": "stdout",
     "output_type": "stream",
     "text": [
      "-rw-r--r--@  1 d  staff      950 May  5 16:19 abikesa_nhanes.do\n"
     ]
    },
    {
     "name": "stdout",
     "output_type": "stream",
     "text": [
      "-rwxr-xr-x@  1 d  staff      103 May  5 16:19 abikesa_nhanes.sh*\n"
     ]
    },
    {
     "name": "stdout",
     "output_type": "stream",
     "text": [
      "-rwxr-xr-x@  1 d  staff   349288 May 12 17:47 abikesa_python.ipynb*\n"
     ]
    },
    {
     "name": "stdout",
     "output_type": "stream",
     "text": [
      "-rwxr-xr-x@  1 d  staff    99361 May 12 12:01 abikesa_r.ipynb*\n"
     ]
    },
    {
     "name": "stdout",
     "output_type": "stream",
     "text": [
      "-rwxr-xr-x@  1 d  staff     1120 May  5 16:19 abikesa_remove_duplicates.sh*\n"
     ]
    },
    {
     "name": "stdout",
     "output_type": "stream",
     "text": [
      "-rwxr-xr-x@  1 d  staff      809 May  5 16:19 abikesa_rmdir.sh*\n"
     ]
    },
    {
     "name": "stdout",
     "output_type": "stream",
     "text": [
      "-rwxr-xr-x@  1 d  staff      642 May  5 16:19 abikesa_rmfiles.sh*\n"
     ]
    },
    {
     "name": "stdout",
     "output_type": "stream",
     "text": [
      "-rwxr-xr-x@  1 d  staff      959 May  5 16:19 abikesa_rmstuff.sh*\n"
     ]
    },
    {
     "name": "stdout",
     "output_type": "stream",
     "text": [
      "-rw-r--r--@  1 d  staff     3233 May  5 16:19 abikesa_seasons.do\n"
     ]
    },
    {
     "name": "stdout",
     "output_type": "stream",
     "text": [
      "-rwxr-xr-x@  1 d  staff       93 May  5 16:19 abikesa_seasons.sh*\n"
     ]
    },
    {
     "name": "stdout",
     "output_type": "stream",
     "text": [
      "-rw-r--r--@  1 d  staff     1378 May  5 16:19 abikesa_stata.do\n"
     ]
    },
    {
     "name": "stdout",
     "output_type": "stream",
     "text": [
      "-rwxr-xr-x@  1 d  staff    18913 May 12 18:14 abikesa_stata.ipynb*\n"
     ]
    },
    {
     "name": "stdout",
     "output_type": "stream",
     "text": [
      "-rw-r--r--@  1 d  staff     2482 May  5 16:19 abikesa_stata.log\n"
     ]
    },
    {
     "name": "stdout",
     "output_type": "stream",
     "text": [
      "-rwxr-xr-x@  1 d  staff      112 May 12 10:23 abikesa_stata.sh*\n"
     ]
    },
    {
     "name": "stdout",
     "output_type": "stream",
     "text": [
      "-rwxr-xr-x@  1 d  staff       40 May  5 16:19 abikesa_stata3.do*\n"
     ]
    },
    {
     "name": "stdout",
     "output_type": "stream",
     "text": [
      "-rwxr-xr-x@  1 d  staff      250 May  5 16:19 abikesa_statacurl.sh*\n"
     ]
    },
    {
     "name": "stdout",
     "output_type": "stream",
     "text": [
      "drwxr-xr-x@ 16 d  staff      512 May  5 16:21 act0/\n"
     ]
    },
    {
     "name": "stdout",
     "output_type": "stream",
     "text": [
      "drwxr-xr-x@  4 d  staff      128 May  5 16:21 act1/\n"
     ]
    },
    {
     "name": "stdout",
     "output_type": "stream",
     "text": [
      "drwxr-xr-x@  4 d  staff      128 May  5 16:20 act2/\n"
     ]
    },
    {
     "name": "stdout",
     "output_type": "stream",
     "text": [
      "drwxr-xr-x@  3 d  staff       96 May  5 16:21 act3/\n"
     ]
    },
    {
     "name": "stdout",
     "output_type": "stream",
     "text": [
      "drwxr-xr-x@  3 d  staff       96 May  5 16:21 act4/\n"
     ]
    },
    {
     "name": "stdout",
     "output_type": "stream",
     "text": [
      "drwxr-xr-x@  3 d  staff       96 May  5 16:21 act5/\n"
     ]
    },
    {
     "name": "stdout",
     "output_type": "stream",
     "text": [
      "drwxr-xr-x@  5 d  staff      160 May  5 16:21 act_0/\n"
     ]
    },
    {
     "name": "stdout",
     "output_type": "stream",
     "text": [
      "drwxr-xr-x@  5 d  staff      160 May  5 16:21 act_1/\n"
     ]
    },
    {
     "name": "stdout",
     "output_type": "stream",
     "text": [
      "drwxr-xr-x@  5 d  staff      160 May  5 16:21 act_2/\n"
     ]
    },
    {
     "name": "stdout",
     "output_type": "stream",
     "text": [
      "drwxr-xr-x@  5 d  staff      160 May  5 16:21 act_3/\n"
     ]
    },
    {
     "name": "stdout",
     "output_type": "stream",
     "text": [
      "-rwxr-xr-x@  1 d  staff      376 May  5 16:19 bash.sh*\n"
     ]
    },
    {
     "name": "stdout",
     "output_type": "stream",
     "text": [
      "-rw-r--r--@  1 d  staff     6402 May 12 17:54 intro.ipynb\n"
     ]
    },
    {
     "name": "stdout",
     "output_type": "stream",
     "text": [
      "-rw-r--r--@  1 d  staff  2446062 May 12 09:22 jamascript-e.pdf\n"
     ]
    },
    {
     "name": "stdout",
     "output_type": "stream",
     "text": [
      "-rw-r--r--@  1 d  staff   175502 May 12 09:21 jamascript-m.pdf\n"
     ]
    },
    {
     "name": "stdout",
     "output_type": "stream",
     "text": [
      "-rw-r--r--@  1 d  staff     1932 May 12 07:50 jamascript.do\n"
     ]
    },
    {
     "name": "stdout",
     "output_type": "stream",
     "text": [
      "-rw-r--r--@  1 d  staff    45893 May 12 18:16 jamascript.png\n"
     ]
    },
    {
     "name": "stdout",
     "output_type": "stream",
     "text": [
      "-rw-r--r--@  1 d  staff     5936 May 12 18:16 km.dta\n"
     ]
    },
    {
     "name": "stdout",
     "output_type": "stream",
     "text": [
      "-rw-r--r--@  1 d  staff   342072 May  5 16:19 maluminse.png\n"
     ]
    },
    {
     "name": "stdout",
     "output_type": "stream",
     "text": [
      "-rw-r--r--@  1 d  staff    77753 May 12 18:16 particle_animation.gif\n"
     ]
    },
    {
     "name": "stdout",
     "output_type": "stream",
     "text": [
      "-rw-r--r--@  1 d  staff   680890 May  5 16:19 preface.ipynb\n"
     ]
    },
    {
     "name": "stdout",
     "output_type": "stream",
     "text": [
      "-rw-r--r--@  1 d  staff    12114 May  5 16:19 prologue.ipynb\n"
     ]
    },
    {
     "name": "stdout",
     "output_type": "stream",
     "text": [
      "-rw-r--r--@  1 d  staff    83094 May 12 18:16 temp_stsrpos.csv\n"
     ]
    }
   ],
   "source": [
    "\n",
    "qui {\n",
    "global repo https://github.com/muzaale/forum/raw/main/ \n",
    "// cls; some commands don't work outside Stata!!\n",
    "/*noi di \"What is your work directory?\" _request(workdir)\n",
    "if \"$workdir\" == \"\" {\n",
    "\tdi as err \"Please provide your work directory\"\n",
    "\texit\n",
    "}\n",
    "else {\n",
    "\tcd $workdir\n",
    "\tnoi di \"jamascript is running ...\"\n",
    "}\n",
    "*/\n",
    "use ${repo}esrdRisk_t02tT, clear\n",
    "tab donor rSMGJcEdF_d\n",
    "g entry = rSMGJcEdF_t0\n",
    "//linkage for donors after 2011 is untrustworthy\n",
    "replace rSMGJcEdF_d=0 if rSMGJcEdF_tT > d(31dec2011)\n",
    "replace rSMGJcEdF_tT = d(31dec2011) if rSMGJcEdF_tT > d(31dec2011)\n",
    "//linkage before 1994 is untrustworthy\n",
    "#delimit ;\n",
    "replace entry = d(01jan1994) if  \n",
    "    entry < d(01jan1994) &  \n",
    "\trSMGJcEdF_tT > d(01jan1994); \n",
    "stset rSMGJcEdF_tT,  \n",
    "    origin(rSMGJcEdF_t0)  \n",
    "\tentry(`entry')  \n",
    "\tfail(rSMGJcEdF_d==2)  \n",
    "\tscale(365.25); \n",
    "#delimit cr \n",
    "sts list, fail by(donor) at(5 12 15) saving(km, replace ) \n",
    "preserve  \n",
    "    use km, clear  \n",
    "\treplace failure=failure*100\n",
    "    sum failure if donor==1 & time==5\n",
    "\tlocal don5y: di %3.2f r(mean)\n",
    "    sum failure if donor==1 & time==12\n",
    "\tlocal don12y: di %3.2f r(mean)\n",
    "\tsum failure if donor==1 & time==15\n",
    "\tlocal don15y: di %3.2f r(mean)\n",
    "\t//\n",
    "    sum failure if donor==2 & time==5\n",
    "\tlocal hnd5y: di %3.2f r(mean)\n",
    "    sum failure if donor==2 & time==12\n",
    "\tlocal hnd12y: di %3.2f r(mean)\n",
    "\tsum failure if donor==2 & time==15\n",
    "\tlocal hnd15y: di %3.2f r(mean)\n",
    "\t//\n",
    "    sum failure if donor==3 & time==5\n",
    "\tlocal gpop5y: di %3.2f r(mean)\n",
    "    sum failure if donor==3 & time==12\n",
    "\tlocal gpop12y: di %3.2f r(mean)\n",
    "\tsum failure if donor==3 & time==15\n",
    "\tlocal gpop15y: di %3.2f r(mean)\n",
    "restore \n",
    "#delimit ;\n",
    "sts graph, \n",
    "    by(donor)  \n",
    "    fail \n",
    "\tper(100)  \n",
    "\txlab(0(3)15) \n",
    "\tylab(0(10)40,  \n",
    "\t    format(%2.0f))  \n",
    "\ttmax(15)  \n",
    "\trisktable(, color(stc1) group (1)  \n",
    "\t    order(3 \" \" 2 \" \" 1 \" \")  \n",
    "\t\tti(\"#\")  \n",
    "\t) \n",
    "\trisktable(, color(stc2) group(2))  \n",
    "\trisktable(, color(stc3) group(3))  \n",
    "\tlegend(on \n",
    "\tring(0)  \n",
    "\t    pos(11)  \n",
    "\t   order(3 2 1)  \n",
    "\t   lab(3 \"General population\")  \n",
    "\t   lab(2 \"Healthy nondonor\")  \n",
    "\t   lab(1 \"Living donor\")  \n",
    "\t)  \n",
    "\tti(\"Morte\")  \n",
    "\ttext(`don5y' 5 \"`don5y'%\", col(stc1))  \n",
    "\ttext(`don12y' 12 \"`don12y'%\", col(stc1))  \n",
    "\ttext(`don15y' 15 \"`don15y'%\", col(stc1))  \n",
    "\ttext(`hnd5y' 5 \"`hnd5y'%\", col(stc2))  \n",
    "\ttext(`hnd12y' 12 \"`hnd12y'%\", col(stc2)) \n",
    "\ttext(`hnd15y' 15 \"`hnd15y'%\", col(stc2))  \n",
    "\ttext(`gpop5y' 5 \"`gpop5y'%\", col(stc3))  \n",
    "\ttext(`gpop12y' 12 \"`gpop12y'%\", col(stc3))  \n",
    "\ttext(`gpop15y' 15 \"`gpop15y'%\", col(stc3));\n",
    "#delimit cr\n",
    "\n",
    "graph export ~/documents/github/work/jamascript.png, replace \n",
    "noi ls\n",
    "} \n",
    " "
   ]
  },
  {
   "cell_type": "markdown",
   "metadata": {},
   "source": [
    "![](jamascript.png)"
   ]
  }
 ],
 "metadata": {
  "kernelspec": {
   "display_name": "Stata",
   "language": "stata",
   "name": "stata"
  },
  "language_info": {
   "codemirror_mode": "stata",
   "file_extension": ".do",
   "mimetype": "text/x-stata",
   "name": "stata",
   "version": "15.1"
  }
 },
 "nbformat": 4,
 "nbformat_minor": 2
}