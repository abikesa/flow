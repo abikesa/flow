{
 "cells": [
  {
   "cell_type": "markdown",
   "metadata": {},
   "source": [
    "#  "
   ]
  },
  {
   "cell_type": "markdown",
   "metadata": {},
   "source": [
    "# Stata\n",
    "\n",
    "### Stata I (Basic)\n",
    "- Commands, syntax, and file management restricted to Stata dropdown menu, command window, and `.do` files on local computer\n",
    "### Stata II (Intermediate)\n",
    "- File management including `.do`, `.ado`, and datafiles are managed remotely on GitHub to enhance collaboration, sharing, and openness\n",
    "### Stata III (Advanced)\n",
    "- Batch mode is used on a `Visual Studio Code` terminal with `.sh` scripts, with .do files and other outputs embedded in `.ipynb` env"
   ]
  },
  {
   "cell_type": "markdown",
   "metadata": {
    "tags": [
     "hide-input"
    ]
   },
   "source": [
    "```bash\n",
    "# Workflow for Stata III \n",
    "export PATH=$PATH:/applications/stata/statamp.app/contents/macos/\n",
    "stata-mp -b work/abikesa_batch.do\n",
    "```\n",
    "\n",
    "#\n",
    "\n",
    "Ah, I see what you're trying to do. Running Stata in batch mode is a handy way to automate tasks, especially when dealing with large datasets or repetitive tasks. \n",
    "\n",
    "To run a remote script in batch mode with Stata, you can use the `curl` command to download the script from GitHub and then pass it to Stata for execution. Here's how you can do it:\n",
    "\n",
    "```bash\n",
    "# Download the remote script using curl\n",
    "curl -O https://github.com/abikesa/do/raw/main/hello.do\n",
    "\n",
    "# Run Stata in batch mode with the downloaded script\n",
    "export PATH=$PATH:/applications/stata/statamp.app/contents/macos/\n",
    "stata-mp -b hello.do\n",
    "```\n",
    "\n",
    "This script will download the `hello.do` script from the GitHub repository and then execute it in batch mode using Stata. Make sure you have `curl` installed on your system, or you can use any other tool to download files from the web.\n",
    "\n",
    "Running scripts remotely can be a powerful tool, but always ensure you trust the source of the script to avoid any security risks."
   ]
  }
 ],
 "metadata": {
  "kernelspec": {
   "display_name": "myenv",
   "language": "python",
   "name": "python3"
  },
  "language_info": {
   "codemirror_mode": "r",
   "file_extension": ".r",
   "mimetype": "text/x-r-source",
   "name": "python",
   "pygments_lexer": "r",
   "version": "3.11.4"
  }
 },
 "nbformat": 4,
 "nbformat_minor": 2
}