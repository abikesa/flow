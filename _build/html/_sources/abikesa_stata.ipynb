{
 "cells": [
  {
   "cell_type": "markdown",
   "metadata": {},
   "source": [
    "#  "
   ]
  },
  {
   "cell_type": "markdown",
   "metadata": {},
   "source": [
    "# Stata\n",
    "\n",
    "### Stata I (Basic)\n",
    "- Commands, syntax, and file management restricted to Stata dropdown menu, command window, and `.do` files on local computer\n",
    "### Stata II (Intermediate)\n",
    "- File management including `.do`, `.ado`, and datafiles are managed remotely on GitHub to enhance collaboration, sharing, and openness\n",
    "### Stata III (Advanced)\n",
    "- Batch mode is used on a `Visual Studio Code` terminal with `.sh` scripts, with .do files and other outputs embedded in `.ipynb` env"
   ]
  },
  {
   "cell_type": "markdown",
   "metadata": {
    "tags": [
     "hide-input"
    ]
   },
   "source": [
    "```bash\n",
    "# Workflow for Stata III \n",
    "export PATH=$PATH:/applications/stata/statamp.app/contents/macos/\n",
    "stata-mp -b work/abikesa_batch.do\n",
    "```\n",
    "\n",
    "#\n",
    "\n",
    "Ah, I see what you're trying to do. Running Stata in batch mode is a handy way to automate tasks, especially when dealing with large datasets or repetitive tasks. \n",
    "\n",
    "To run a remote script in batch mode with Stata, you can use the `curl` command to download the script from GitHub and then pass it to Stata for execution. Here's how you can do it:\n",
    "\n",
    "```bash\n",
    "# Download the remote script using curl\n",
    "curl -O https://github.com/abikesa/do/raw/main/hello.do\n",
    "\n",
    "# Run Stata in batch mode with the downloaded script\n",
    "export PATH=$PATH:/applications/stata/statamp.app/contents/macos/\n",
    "stata-mp -b hello.do\n",
    "```\n",
    "\n",
    "This script will download the `hello.do` script from the GitHub repository and then execute it in batch mode using Stata. Make sure you have `curl` installed on your system, or you can use any other tool to download files from the web.\n",
    "\n",
    "Running scripts remotely can be a powerful tool, but always ensure you trust the source of the script to avoid any security risks."
   ]
  },
  {
   "cell_type": "markdown",
   "metadata": {},
   "source": [
    "```stata\n",
    "global repo https://github.com/muzaale/forum/raw/main/ \n",
    "```"
   ]
  },
  {
   "cell_type": "markdown",
   "metadata": {},
   "source": [
    "```stata\n",
    "//global repo \"\"\n",
    "di \"What is your work directory? _request()\n",
    "use esrdRisk_t02tT, clear\n",
    "tab donor rSMGJcEdF_d\n",
    "g entry = rSMGJcEdF_t0\n",
    "replace entry = d(01jan1994) if ///\n",
    "    entry < d(01jan1994) & ///\n",
    "\trSMGJcEdF_tT > d(01jan1994)\n",
    "stset rSMGJcEdF_tT, ///\n",
    "    origin(rSMGJcEdF_t0) ///\n",
    "\tentry(`entry') ///\n",
    "\tfail(rSMGJcEdF_d==2) ///\n",
    "\tscale(365.25) \n",
    "sts list, fail by(donor) at(5 10 15) saving(km, replace )\n",
    "preserve \n",
    "    use km, clear \n",
    "\treplace failure=failure*100\n",
    "    sum failure if donor==1 & time==5\n",
    "\tlocal don5y: di %3.2f r(mean)\n",
    "    sum failure if donor==1 & time==10\n",
    "\tlocal don10y: di %3.2f r(mean)\n",
    "\tsum failure if donor==1 & time==15\n",
    "\tlocal don15y: di %3.2f r(mean)\n",
    "\t//\n",
    "    sum failure if donor==2 & time==5\n",
    "\tlocal hnd5y: di %3.2f r(mean)\n",
    "    sum failure if donor==2 & time==10\n",
    "\tlocal hnd10y: di %3.2f r(mean)\n",
    "\tsum failure if donor==2 & time==15\n",
    "\tlocal hnd15y: di %3.2f r(mean)\n",
    "\t//\n",
    "    sum failure if donor==3 & time==5\n",
    "\tlocal gpop5y: di %3.2f r(mean)\n",
    "    sum failure if donor==3 & time==10\n",
    "\tlocal gpop10y: di %3.2f r(mean)\n",
    "\tsum failure if donor==3 & time==15\n",
    "\tlocal gpop15y: di %3.2f r(mean)\n",
    "restore \n",
    "sts graph, ///\n",
    "    by(donor) ///\n",
    "    fail ///\n",
    "\tper(100) ///\n",
    "\tylab(0(10)40, ///\n",
    "\t    format(%2.0f)) ///\n",
    "\ttmax(15) ///\n",
    "\trisktable(, color(stc1) group (1) ///\n",
    "\t    order(3 \" \" 2 \" \" 1 \" \") ///\n",
    "\t\tti(\"#\") ///\n",
    "\t) ///\n",
    "\trisktable(, color(stc2) group(2)) ///\n",
    "\trisktable(, color(stc3) group(3)) ///\n",
    "\tlegend(on ///\n",
    "\tring(0) ///\n",
    "\t    pos(11) ///\n",
    "\t   order(3 2 1) ///\n",
    "\t   lab(3 \"General population\") ///\n",
    "\t   lab(2 \"Healthy nondonor\") ///\n",
    "\t   lab(1 \"Living donor\") ///\n",
    "\t) ///\n",
    "\tti(\"Mortality\") ///\n",
    "\ttext(`don5y' 5 \"`don5y'%\", col(stc1)) ///\n",
    "\ttext(`don10y' 10 \"`don10y'%\", col(stc1)) ///\n",
    "\ttext(`don15y' 15 \"`don15y'%\", col(stc1)) ///\n",
    "\ttext(`hnd5y' 5 \"`hnd5y'%\", col(stc2)) ///\n",
    "\ttext(`hnd10y' 10 \"`hnd10y'%\", col(stc2)) ///\n",
    "\ttext(`hnd15y' 15 \"`hnd15y'%\", col(stc2)) ///\n",
    "\ttext(`gpop5y' 5 \"`gpop5y'%\", col(stc3)) ///\n",
    "\ttext(`gpop10y' 10 \"`gpop10y'%\", col(stc3)) ///\n",
    "\ttext(`gpop15y' 15 \"`gpop15y'%\", col(stc3))\n",
    "\n",
    "graph export jamascript.png, replace \n",
    "```\n",
    "\n",
    "![](jamascript.png)"
   ]
  }
 ],
 "metadata": {
  "kernelspec": {
   "display_name": "myenv",
   "language": "python",
   "name": "python3"
  },
  "language_info": {
   "codemirror_mode": "r",
   "file_extension": ".r",
   "mimetype": "text/x-r-source",
   "name": "python",
   "pygments_lexer": "r",
   "version": "3.11.4"
  },
  "orig_nbformat": 4
 },
 "nbformat": 4,
 "nbformat_minor": 2
}
