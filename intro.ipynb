{
 "cells": [
  {
   "cell_type": "markdown",
   "metadata": {},
   "source": [
    "#  "
   ]
  },
  {
   "cell_type": "markdown",
   "metadata": {},
   "source": [
    "# Stata kernel in jupyter notebook"
   ]
  },
  {
   "cell_type": "markdown",
   "metadata": {},
   "source": [
    "[In Terminal](https://stackoverflow.com/questions/66638993/how-to-enable-stata-kernel-in-jupyter-notebook):\n",
    "\n",
    "```bash\n",
    "source ~/documents/github/myenv/bin/activate\n",
    "pip install stata_kernel --target=/users/d/documents/github/menv/lib/python3.11/site-packages\n",
    "python -m stata_kernel.install\n",
    "conda install -c conda-forge nodejs -y  # not working\n",
    "jupyter labextension install jupyterlab-stata-highlight`\n",
    "\n",
    "pip install ipystata --target=/users/d/documents/github/menv/lib/python3.11/site-packages\n",
    "\n",
    "```\n",
    "\n",
    "Hanging at `conda install -c conda-forge nodejs -y`. Let's address it later\n",
    "\n",
    "In Jupyter notebook\n",
    "\n",
    "```py\n",
    "import ipystata \n",
    "from ipystata.config import config_stata  \n",
    "config_stata('~/Applications/Stata/StataMP')\n",
    "```\n",
    "\n"
   ]
  }
 ],
 "metadata": {
  "kernelspec": {
   "display_name": "myenv",
   "language": "python",
   "name": "python3"
  },
  "language_info": {
   "codemirror_mode": {
    "name": "ipython",
    "version": 3
   },
   "file_extension": ".py",
   "mimetype": "text/x-python",
   "name": "python",
   "nbconvert_exporter": "python",
   "pygments_lexer": "ipython3",
   "version": "3.11.4"
  },
  "orig_nbformat": 4
 },
 "nbformat": 4,
 "nbformat_minor": 2
}
